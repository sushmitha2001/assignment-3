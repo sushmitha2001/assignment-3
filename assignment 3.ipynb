{
 "cells": [
  {
   "cell_type": "markdown",
   "metadata": {},
   "source": [
    "1.\n"
   ]
  },
  {
   "cell_type": "code",
   "execution_count": 7,
   "metadata": {},
   "outputs": [
    {
     "name": "stdout",
     "output_type": "stream",
     "text": [
      "enter the 1st number\n",
      "2\n",
      "enter the 2nd number\n",
      "3\n",
      "they are not equal\n"
     ]
    }
   ],
   "source": [
    "print(\"enter the 1st number\")\n",
    "n1=int(input())\n",
    "print(\"enter the 2nd number\")\n",
    "n2=int(input())\n",
    "if(n1==n2):\n",
    " print(\"they are equal\")\n",
    "else:\n",
    "  print(\"they are not equal\")"
   ]
  },
  {
   "cell_type": "markdown",
   "metadata": {},
   "source": [
    "2.\n"
   ]
  },
  {
   "cell_type": "code",
   "execution_count": 8,
   "metadata": {},
   "outputs": [
    {
     "name": "stdout",
     "output_type": "stream",
     "text": [
      "enter the 1st number\n",
      "2\n",
      "enter the second number\n",
      "2\n",
      "enter the 3rd number\n",
      "2\n",
      "true\n"
     ]
    }
   ],
   "source": [
    "print(\"enter the 1st number\")\n",
    "n1=int(input())\n",
    "print(\"enter the second number\")\n",
    "n2=int(input())\n",
    "print(\"enter the 3rd number\")\n",
    "n3=int(input())\n",
    "if(n1==n2 and n2==n3):\n",
    " print(\"true\")\n",
    "else:\n",
    " print(\"false\")\n",
    "    \n"
   ]
  },
  {
   "cell_type": "markdown",
   "metadata": {},
   "source": [
    "2.2"
   ]
  },
  {
   "cell_type": "code",
   "execution_count": 9,
   "metadata": {},
   "outputs": [
    {
     "name": "stdout",
     "output_type": "stream",
     "text": [
      "enter the 1st number\n",
      "2\n",
      "enter the 2nd number\n",
      "2\n",
      "enter the 3rd number\n",
      "3\n",
      "true\n"
     ]
    }
   ],
   "source": [
    "print(\"enter the 1st number\")\n",
    "n1=int(input())\n",
    "print(\"enter the 2nd number\")\n",
    "n2=int(input())\n",
    "print(\"enter the 3rd number\")\n",
    "n3=int(input())\n",
    "if(n1==n2 or n2==n3):\n",
    " print(\"true\")\n",
    "else:\n",
    " print(\"false\")"
   ]
  },
  {
   "cell_type": "markdown",
   "metadata": {},
   "source": [
    "3\n"
   ]
  },
  {
   "cell_type": "code",
   "execution_count": 10,
   "metadata": {},
   "outputs": [
    {
     "name": "stdout",
     "output_type": "stream",
     "text": [
      "enter the 1st number\n",
      "2\n",
      "enter the 2nd number\n",
      "3\n",
      "sum is equal to 5\n"
     ]
    }
   ],
   "source": [
    "print(\"enter the 1st number\")\n",
    "n1=int(input())\n",
    "print(\"enter the 2nd number\")\n",
    "n2=int(input())\n",
    "sum=n1+n2\n",
    "if(sum>5):\n",
    " print(\"sum is greater than 5\")\n",
    "elif(sum<5):\n",
    " print(\"sum is lesser thsn 5\")\n",
    "else:\n",
    " print(\"sum is equal to 5\")\n",
    " \n",
    "    "
   ]
  },
  {
   "cell_type": "markdown",
   "metadata": {},
   "source": [
    "#### 4"
   ]
  },
  {
   "cell_type": "code",
   "execution_count": 11,
   "metadata": {},
   "outputs": [
    {
     "name": "stdout",
     "output_type": "stream",
     "text": [
      "enter the marks of subject\n",
      "36\n",
      "student has been passed\n"
     ]
    }
   ],
   "source": [
    "print(\"enter the marks of subject\")\n",
    "n=int(input())\n",
    "if(n>35):\n",
    " print(\"student has been passed\")\n",
    "else:\n",
    " print(\"student has not passed\")\n"
   ]
  },
  {
   "cell_type": "markdown",
   "metadata": {},
   "source": [
    "5."
   ]
  },
  {
   "cell_type": "code",
   "execution_count": 12,
   "metadata": {},
   "outputs": [
    {
     "name": "stdout",
     "output_type": "stream",
     "text": [
      "enter the 1st number\n",
      "2\n",
      "enter the 2nd number\n",
      "3\n",
      "enter the 3rd number\n",
      "4\n",
      "the largest number is 4\n"
     ]
    }
   ],
   "source": [
    "print(\"enter the 1st number\")\n",
    "n1=int(input())\n",
    "print(\"enter the 2nd number\")\n",
    "n2=int(input())\n",
    "print(\"enter the 3rd number\")\n",
    "n3=int(input())\n",
    "if(n1>n2 and n1>n3):\n",
    " largest=n1\n",
    "elif(n2>n1 and n2>n3):\n",
    " largest=n2\n",
    "else:\n",
    " largest=n3\n",
    "print(\"the largest number is\",largest)\n"
   ]
  },
  {
   "cell_type": "code",
   "execution_count": null,
   "metadata": {},
   "outputs": [],
   "source": []
  }
 ],
 "metadata": {
  "kernelspec": {
   "display_name": "Python 3",
   "language": "python",
   "name": "python3"
  },
  "language_info": {
   "codemirror_mode": {
    "name": "ipython",
    "version": 3
   },
   "file_extension": ".py",
   "mimetype": "text/x-python",
   "name": "python",
   "nbconvert_exporter": "python",
   "pygments_lexer": "ipython3",
   "version": "3.7.6"
  }
 },
 "nbformat": 4,
 "nbformat_minor": 4
}
